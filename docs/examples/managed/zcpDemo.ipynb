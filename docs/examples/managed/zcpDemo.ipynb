{
 "cells": [
  {
   "cell_type": "markdown",
   "id": "adf7d63d",
   "metadata": {},
   "source": [
    "<a href=\"https://colab.research.google.com/github/jerryjliu/llama_index/blob/main/docs/examples/managed/vectaraDemo.ipynb\" target=\"_parent\"><img src=\"https://colab.research.google.com/assets/colab-badge.svg\" alt=\"Open In Colab\"/></a>"
   ]
  },
  {
   "cell_type": "markdown",
   "id": "db0855d0",
   "metadata": {},
   "source": [
    "# Managed Index with Zilliz Cloud Pipeline\n",
    "\n",
    "[Zilliz Cloud Pipelines](https://docs.zilliz.com/docs/pipelines) is a robust solution that efficiently transforms unstructured data into a vector database for effective semantic search.\n",
    "\n",
    "## Setup\n",
    "\n",
    "1. Install llama-index"
   ]
  },
  {
   "cell_type": "code",
   "execution_count": null,
   "id": "6019e01a",
   "metadata": {},
   "outputs": [],
   "source": [
    "# ! pip install llama-index"
   ]
  },
  {
   "cell_type": "markdown",
   "id": "3fc94b2f",
   "metadata": {},
   "source": [
    "2. Set your [OpenAI](https://platform.openai.com) & [Zilliz Cloud](https://cloud.zilliz.com/) accounts"
   ]
  },
  {
   "cell_type": "code",
   "execution_count": 1,
   "id": "c2d1c538",
   "metadata": {},
   "outputs": [],
   "source": [
    "from getpass import getpass\n",
    "import os\n",
    "\n",
    "os.environ[\"OPENAI_API_KEY\"] = getpass(\"Enter your OpenAI API Key:\")\n",
    "\n",
    "ZILLIZ_CLUSTER_ID = getpass(\"Enter your Zilliz Cluster ID:\")\n",
    "ZILLIZ_TOKEN = getpass(\"Enter your Zilliz Token:\")"
   ]
  },
  {
   "cell_type": "markdown",
   "id": "5d3c5b5f",
   "metadata": {},
   "source": [
    "## Indexing documents\n",
    "\n",
    "### From Signed URL\n",
    "\n",
    "Zilliz Cloud Pipeline is able to ingest & automatically index a document given a presigned url."
   ]
  },
  {
   "cell_type": "code",
   "execution_count": 2,
   "id": "97d5c934",
   "metadata": {},
   "outputs": [],
   "source": [
    "from llama_index.indices import ZillizCloudPipelineIndex\n",
    "\n",
    "zcp_index = ZillizCloudPipelineIndex.from_document_url(\n",
    "    url=\"https://publicdataset.zillizcloud.com/milvus_doc.md\",  # a public or pre-signed url of a file stored on s3 or gcs\n",
    "    cluster_id=ZILLIZ_CLUSTER_ID,\n",
    "    token=ZILLIZ_TOKEN,\n",
    "    metadata={\"version\": \"milvus 2.3\", \"year\": \"2023\"},  # optional\n",
    ")"
   ]
  },
  {
   "cell_type": "markdown",
   "id": "d16a498e",
   "metadata": {},
   "source": [
    "- It is optional to add metadata for each document.\n",
    "\n",
    "### From Local File\n",
    "\n",
    "Coming soon.\n",
    "\n",
    "### From Raw Text\n",
    "\n",
    "Coming soon."
   ]
  },
  {
   "cell_type": "markdown",
   "id": "c94365ab",
   "metadata": {},
   "source": [
    "## Working as Query Engine\n",
    "\n",
    "A Zilliz Cloud Pipeline's Index can work as a Query Engine in Llama-Index.\n",
    "It allows users to customize some parameters:\n",
    "- search_top_k: How many text nodes/chunks retrieved. Optional, defaults to `DEFAULT_SIMILARITY_TOP_K` (2).\n",
    "- output_metadata: What metadata fields included in each retrieved text node. Optional, defaults to []."
   ]
  },
  {
   "cell_type": "code",
   "execution_count": 3,
   "id": "dafda7a1",
   "metadata": {},
   "outputs": [],
   "source": [
    "# # Get index without ingestion:\n",
    "# zcp_index = ZillizCloudPipelineIndex(\n",
    "#         cluster_id=ZILLIZ_CLUSTER_ID,\n",
    "#         token=ZILLIZ_TOKEN,\n",
    "#         # collection_name='zcp_llamalection'\n",
    "#     )\n",
    "\n",
    "query_engine = zcp_index.as_query_engine(\n",
    "    search_top_k=3, output_metadata=[\"version\", \"year\"]  # optional\n",
    ")"
   ]
  },
  {
   "cell_type": "markdown",
   "id": "9803232e",
   "metadata": {},
   "source": [
    "Then you can use the query engine for Semantic Search or Retrieval Augmented Generation:\n",
    "\n",
    "- **Retrieve** (Semantic search powered by Zilliz Cloud Pipeline's Index):"
   ]
  },
  {
   "cell_type": "code",
   "execution_count": 5,
   "id": "8ab92af7",
   "metadata": {},
   "outputs": [
    {
     "data": {
      "text/plain": [
       "[NodeWithScore(node=TextNode(id_='446268394525203238', embedding=None, metadata={'year': '2023', 'version': 'milvus 2.3'}, excluded_embed_metadata_keys=[], excluded_llm_metadata_keys=[], relationships={}, hash='0038e98e24c36a9ab33c792fd48e50e7fea1d3a1b0ea793036ec932ab9b6cf6b', text='Delete Entities\\nThis topic describes how to delete entities in Milvus.\\nMilvus supports deleting entities by primary key or complex boolean expressions. Deleting entities by primary key is much faster and lighter than deleting them by complex boolean expressions. This is because Milvus executes queries first when deleting data by complex boolean expressions.\\nDeleted entities can still be retrieved immediately after the deletion if the consistency level is set lower than Strong.\\nEntities deleted beyond the pre-specified span of time for Time Travel cannot be retrieved again.\\nFrequent deletion operations will impact the system performance.\\nBefore deleting entities by comlpex boolean expressions, make sure the collection has been loaded.\\nDeleting entities by complex boolean expressions is not an atomic operation. Therefore, if it fails halfway through, some data may still be deleted.\\nDeleting entities by complex boolean expressions is supported only when the consistency is set to Bounded. For details, see Consistency.\\nPrepare boolean expression\\nPrepare the boolean expression that filters the entities to delete.\\nMilvus supports deleting entities by primary key or complex boolean expressions. For more information on expression rules and supported operators, see Boolean Expression Rules.\\nSimple boolean expression\\nUse a simple expression to filter data with primary key values of 0 and 1:\\npython\\nexpr = \"book_id in [0,1]\"\\nComplex boolean expression', start_char_idx=None, end_char_idx=None, text_template='{metadata_str}\\n\\n{content}', metadata_template='{key}: {value}', metadata_seperator='\\n'), score=0.940950870513916),\n",
       " NodeWithScore(node=TextNode(id_='446268394525203239', embedding=None, metadata={'year': '2023', 'version': 'milvus 2.3'}, excluded_embed_metadata_keys=[], excluded_llm_metadata_keys=[], relationships={}, hash='6560e633f62ec4bdb9ee56a93b1bb166af9d146a756d3834f8b3b76706509098', text='To filter entities that meet specific conditions, define complex boolean expressions.\\nFilter entities whose word_count is greater than or equal to 11000:\\npython\\nexpr = \"word_count >= 11000\"\\nFilter entities whose book_name is not Unknown:\\npython\\nexpr = \"book_name != Unknown\"\\nFilter entities whose primary key values are greater than 5 and word_count is smaller than or equal to 9999:\\npython\\nexpr = \"book_id > 5 && word_count <= 9999\"\\nDelete entities\\nDelete the entities with the boolean expression you created. Milvus returns the ID list of the deleted entities.\\npython\\nfrom pymilvus import Collection\\ncollection = Collection(\"book\")      # Get an existing collection.\\ncollection.delete(expr)\\nParameter   Description\\nexpr    Boolean expression that specifies the entities to delete.\\npartition_name (optional)   Name of the partition to delete entities from.\\nUpsert Entities\\nThis topic describes how to upsert entities in Milvus.\\nUpserting is a combination of insert and delete operations. In the context of a Milvus vector database, an upsert is a data-level operation that will overwrite an existing entity if a specified field already exists in a collection, and insert a new entity if the specified value doesn’t already exist.\\nThe following example upserts 3,000 rows of randomly generated data as the example data. When performing upsert operations, it\\'s important to note that the operation may compromise performance. This is because the operation involves deleting data during execution.\\nPrepare data', start_char_idx=None, end_char_idx=None, text_template='{metadata_str}\\n\\n{content}', metadata_template='{key}: {value}', metadata_seperator='\\n'), score=0.887751579284668),\n",
       " NodeWithScore(node=TextNode(id_='446268394525203241', embedding=None, metadata={'year': '2023', 'version': 'milvus 2.3'}, excluded_embed_metadata_keys=[], excluded_llm_metadata_keys=[], relationships={}, hash='6e79b7623839654666b7aaef5b39ad1ae80ebcc39b609ac88f9d70d6ce15e413', text='When data is upserted into Milvus it is updated and inserted into segments. Segments have to reach a certain size to be sealed and indexed. Unsealed segments will be searched brute force. In order to avoid this with any remainder data, it is best to call flush(). The flush() call will seal any remaining segments and send them for indexing. It is important to only call this method at the end of an upsert session. Calling it too often will cause fragmented data that will need to be cleaned later on.\\nLimits\\nUpdating primary key fields is not supported by upsert().\\nupsert() is not applicable and an error can occur if autoID is set to True for primary key fields.', start_char_idx=None, end_char_idx=None, text_template='{metadata_str}\\n\\n{content}', metadata_template='{key}: {value}', metadata_seperator='\\n'), score=0.805656909942627)]"
      ]
     },
     "execution_count": 5,
     "metadata": {},
     "output_type": "execute_result"
    }
   ],
   "source": [
    "question = (\n",
    "    \"In Milvus 2.3, can users delete entities by complex boolean expressions?\"\n",
    ")\n",
    "query_engine.retrieve(question)"
   ]
  },
  {
   "cell_type": "markdown",
   "id": "e91c5896",
   "metadata": {},
   "source": [
    "- **Query** (RAG powered by Zilliz Cloud Pipeline's Index & OpenAI's LLM):"
   ]
  },
  {
   "cell_type": "code",
   "execution_count": 6,
   "id": "fc7b01b7",
   "metadata": {},
   "outputs": [
    {
     "name": "stdout",
     "output_type": "stream",
     "text": [
      "Yes, users can delete entities by complex boolean expressions in Milvus 2.3.\n"
     ]
    }
   ],
   "source": [
    "response = query_engine.query(question)\n",
    "print(response.response)"
   ]
  },
  {
   "cell_type": "code",
   "execution_count": null,
   "id": "72dd3185",
   "metadata": {},
   "outputs": [],
   "source": []
  }
 ],
 "metadata": {
  "kernelspec": {
   "display_name": "Python 3 (ipykernel)",
   "language": "python",
   "name": "python3"
  },
  "language_info": {
   "codemirror_mode": {
    "name": "ipython",
    "version": 3
   },
   "file_extension": ".py",
   "mimetype": "text/x-python",
   "name": "python",
   "nbconvert_exporter": "python",
   "pygments_lexer": "ipython3",
   "version": "3.8.18"
  }
 },
 "nbformat": 4,
 "nbformat_minor": 5
}
